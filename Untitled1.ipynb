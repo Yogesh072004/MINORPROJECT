{
 "cells": [
  {
   "cell_type": "code",
   "execution_count": 1,
   "id": "e367487e-9f17-4ca2-a85d-6443faf8aca2",
   "metadata": {},
   "outputs": [
    {
     "name": "stdout",
     "output_type": "stream",
     "text": [
      "i) id(), type() & range()\n",
      "ID of the string: 2214664411600\n",
      "Type of the string: <class 'str'>\n",
      "Range of string length: [0, 1, 2, 3, 4, 5, 6, 7, 8, 9, 10, 11, 12, 13, 14, 15, 16, 17, 18, 19, 20, 21, 22, 23, 24, 25, 26, 27]\n",
      "\n",
      "ii) input(), print(), 'sep' and 'end' attribute\n"
     ]
    },
    {
     "name": "stdin",
     "output_type": "stream",
     "text": [
      "Enter your name:  Yogesh\n"
     ]
    },
    {
     "name": "stdout",
     "output_type": "stream",
     "text": [
      "Hello, Yogesh!\n",
      "String: | Computer Science Engineering\n",
      "\n",
      "iii) Replacement Operator ({})\n",
      "I am 21 years old and I study Computer Science.\n"
     ]
    }
   ],
   "source": [
    "s = \"Computer Science Engineering\"\n",
    "\n",
    "# i) id(), type() & range()\n",
    "print(\"i) id(), type() & range()\")\n",
    "print(f\"ID of the string: {id(s)}\")\n",
    "print(f\"Type of the string: {type(s)}\")\n",
    "print(f\"Range of string length: {list(range(len(s)))}\")\n",
    "\n",
    "# ii) input(), print(), 'sep' and 'end' attribute\n",
    "print(\"\\nii) input(), print(), 'sep' and 'end' attribute\")\n",
    "name = input(\"Enter your name: \")\n",
    "print(f\"Hello, {name}\", end=\"!\\n\")\n",
    "print(\"String:\", s, sep=\" | \")\n",
    "print(\"hello\",end='')\n",
    "print(\"s\")\n",
    "# iii) Replacement Operator ({})\n",
    "print(\"\\niii) Replacement Operator ({})\")\n",
    "age = 21\n",
    "message = \"I am {} years old and I study {}.\".format(age, \"Computer Science\")\n",
    "print(message)\n"
   ]
  },
  {
   "cell_type": "code",
   "execution_count": 2,
   "id": "ae464405-ced6-46e8-9825-100929beb2cb",
   "metadata": {},
   "outputs": [
    {
     "name": "stdout",
     "output_type": "stream",
     "text": [
      "hellos\n"
     ]
    }
   ],
   "source": [
    "print(\"hello\",end='')\n",
    "print(\"s\")"
   ]
  },
  {
   "cell_type": "code",
   "execution_count": 4,
   "id": "917fbfb0-31ea-431e-9551-6d863f20b5d6",
   "metadata": {},
   "outputs": [
    {
     "name": "stdin",
     "output_type": "stream",
     "text": [
      "Enter your user name u2\n"
     ]
    },
    {
     "name": "stdout",
     "output_type": "stream",
     "text": [
      "u2 your type is:na\n"
     ]
    }
   ],
   "source": [
    "usernames=('u1','u2','u3')\n",
    "usertypes=('sa','na','db')\n",
    "x=input('Enter your user name')\n",
    "if x in usernames:\n",
    "    index=usernames.index(x)\n",
    "    print(f\"{x} your type is:{usertypes[index]}\")"
   ]
  },
  {
   "cell_type": "code",
   "execution_count": 6,
   "id": "9882f531-c818-46b2-9d71-1c7795ffe92e",
   "metadata": {},
   "outputs": [
    {
     "name": "stdout",
     "output_type": "stream",
     "text": [
      "Menu:\n",
      "1. Create Account\n",
      "2. Insert Data\n",
      "3. Update Account Status\n",
      "4. Display Accounts\n",
      "5. Exit\n"
     ]
    },
    {
     "name": "stdin",
     "output_type": "stream",
     "text": [
      "Enter your choice:  1\n",
      "Enter Customer ID:  12\n",
      "Enter Account Number:  1234\n",
      "Enter Amount:  5412\n"
     ]
    },
    {
     "name": "stdout",
     "output_type": "stream",
     "text": [
      "Menu:\n",
      "1. Create Account\n",
      "2. Insert Data\n",
      "3. Update Account Status\n",
      "4. Display Accounts\n",
      "5. Exit\n"
     ]
    },
    {
     "name": "stdin",
     "output_type": "stream",
     "text": [
      "Enter your choice:  2\n",
      "Enter Account Number to insert data:  1234\n",
      "Enter additional amount to deposit:  1000\n"
     ]
    },
    {
     "name": "stdout",
     "output_type": "stream",
     "text": [
      "Data inserted successfully!\n",
      "\n",
      "Menu:\n",
      "1. Create Account\n",
      "2. Insert Data\n",
      "3. Update Account Status\n",
      "4. Display Accounts\n",
      "5. Exit\n"
     ]
    },
    {
     "name": "stdin",
     "output_type": "stream",
     "text": [
      "Enter your choice:  5\n"
     ]
    },
    {
     "name": "stdout",
     "output_type": "stream",
     "text": [
      "Exiting the program. Goodbye!\n",
      "[['12', '1234', 6412.0, 'Active']]\n"
     ]
    }
   ],
   "source": [
    "customers=[]\n",
    "\n",
    "def create_account():\n",
    "    cust_id = input(\"Enter Customer ID: \")\n",
    "    acc_no = input(\"Enter Account Number: \")\n",
    "    amount = float(input(\"Enter Amount: \"))\n",
    "    status=\"Active\" if amount>5000 else \"Inactive\"\n",
    "    customers.append([cust_id, acc_no,   amount,  status])\n",
    "def insert_data():\n",
    "    acc_no = input(\"Enter Account Number to insert data: \")\n",
    "    for c in customers:\n",
    "        if c[1] == acc_no:\n",
    "            newamt = float(input(\"Enter additional amount to deposit: \"))\n",
    "            c[2] += newamt\n",
    "            c[3] = \"Active\" if c[2] >= 500 else \"Inactive\"  # Update status of the current account\n",
    "            print(\"Data inserted successfully!\\n\")\n",
    "            return\n",
    "    print(\"Account not found!\\n\")\n",
    "def update_status():\n",
    "    for customer in customers:\n",
    "        if customer[2] < 500:\n",
    "            customer[3] = \"Inactive\"\n",
    "    print(\"Account statuses updated based on balance.\\n\")        \n",
    "while True:\n",
    "    print(\"Menu:\")\n",
    "    print(\"1. Create Account\")\n",
    "    print(\"2. Insert Data\")\n",
    "    print(\"3. Update Account Status\")\n",
    "    print(\"4. Display Accounts\")\n",
    "    print(\"5. Exit\")\n",
    "    choice = input(\"Enter your choice: \")\n",
    "\n",
    "    if choice == \"1\":\n",
    "        create_account()\n",
    "    elif choice == \"2\":\n",
    "        insert_data()\n",
    "    elif choice == \"3\":\n",
    "        update_status()\n",
    "    elif choice == \"4\":\n",
    "        display_accounts()\n",
    "    elif choice == \"5\":\n",
    "        print(\"Exiting the program. Goodbye!\")\n",
    "        break\n",
    "    else:\n",
    "        print(\"Invalid choice! Please try again.\\n\")\n",
    "\n",
    "print(customers)"
   ]
  },
  {
   "cell_type": "code",
   "execution_count": null,
   "id": "5de7c516-4f42-4672-a59f-5a133419dfa8",
   "metadata": {},
   "outputs": [],
   "source": [
    "def add(a, b):\n",
    "    return a + b\n",
    "\n",
    "def subtract(a, b):\n",
    "    return a - b\n",
    "\n",
    "def multiply(a, b):\n",
    "    return a * b\n",
    "\n",
    "def divide(a, b):\n",
    "    return a / b if b != 0 else \"Division by zero is not allowed\"\n",
    "\n",
    "while True:\n",
    "    print(\"\\nMenu:\")\n",
    "    print(\"1. Addition\")\n",
    "    print(\"2. Subtraction\")\n",
    "    print(\"3. Multiplication\")\n",
    "    print(\"4. Division\")\n",
    "    print(\"5. Exit\")\n",
    "    choice = input(\"Enter your choice (1-5): \")\n",
    "\n",
    "    if choice == \"5\":\n",
    "        print(\"Exiting the program. Goodbye!\")\n",
    "        break\n",
    "\n",
    "    if choice in {\"1\", \"2\", \"3\", \"4\"}:\n",
    "        try:\n",
    "            num1 = float(input(\"Enter the first number: \"))\n",
    "            num2 = float(input(\"Enter the second number: \"))\n",
    "        except ValueError:\n",
    "            print(\"Invalid input! Please enter numeric values.\")\n",
    "            continue\n",
    "\n",
    "        if choice == \"1\":\n",
    "            result = add(num1, num2)\n",
    "            operation = \"Addition\"\n",
    "        elif choice == \"2\":\n",
    "            result = subtract(num1, num2)\n",
    "            operation = \"Subtraction\"\n",
    "        elif choice == \"3\":\n",
    "            result = multiply(num1, num2)\n",
    "            operation = \"Multiplication\"\n",
    "        elif choice == \"4\":\n",
    "            result = divide(num1, num2)\n",
    "            operation = \"Division\"\n",
    "\n",
    "        print(f\"\\n{operation} of {num1} and {num2} is: {result}\")\n",
    "    else:\n",
    "        print(\"Invalid choice! Please select a valid option.\")\n"
   ]
  },
  {
   "cell_type": "code",
   "execution_count": 1,
   "id": "b6774807-1889-462b-89cd-ce81e31856ab",
   "metadata": {},
   "outputs": [
    {
     "name": "stdout",
     "output_type": "stream",
     "text": [
      "\n",
      "Menu:\n",
      "1. Addition\n",
      "2. Subtraction\n",
      "3. Multiplication\n",
      "4. Division\n",
      "5. Exit\n"
     ]
    },
    {
     "name": "stdin",
     "output_type": "stream",
     "text": [
      "Enter your choice (1-5):  2\n",
      "Enter the first number:  5\n",
      "Enter the second number:  2\n"
     ]
    },
    {
     "name": "stdout",
     "output_type": "stream",
     "text": [
      "\n",
      "Subtraction of 5.0 and 2.0 is: 3.0\n",
      "\n",
      "Menu:\n",
      "1. Addition\n",
      "2. Subtraction\n",
      "3. Multiplication\n",
      "4. Division\n",
      "5. Exit\n"
     ]
    },
    {
     "name": "stdin",
     "output_type": "stream",
     "text": [
      "Enter your choice (1-5):  5\n"
     ]
    },
    {
     "name": "stdout",
     "output_type": "stream",
     "text": [
      "Exiting the program. Goodbye!\n"
     ]
    }
   ],
   "source": [
    "def add(a, b):\n",
    "    return a + b\n",
    "\n",
    "def subtract(a, b):\n",
    "    return a - b\n",
    "\n",
    "def multiply(a, b):\n",
    "    return a * b\n",
    "\n",
    "def divide(a, b):\n",
    "    return a / b if b != 0 else \"Division by zero is not allowed\"\n",
    "\n",
    "while True:\n",
    "    print(\"\\nMenu:\")\n",
    "    print(\"1. Addition\")\n",
    "    print(\"2. Subtraction\")\n",
    "    print(\"3. Multiplication\")\n",
    "    print(\"4. Division\")\n",
    "    print(\"5. Exit\")\n",
    "    choice = input(\"Enter your choice (1-5): \")\n",
    "\n",
    "    if choice == \"5\":\n",
    "        print(\"Exiting the program. Goodbye!\")\n",
    "        break\n",
    "\n",
    "    if choice in {\"1\", \"2\", \"3\", \"4\"}:\n",
    "        try:\n",
    "            num1 = float(input(\"Enter the first number: \"))\n",
    "            num2 = float(input(\"Enter the second number: \"))\n",
    "        except ValueError:\n",
    "            print(\"Invalid input! Please enter numeric values.\")\n",
    "            continue\n",
    "\n",
    "        if choice == \"1\":\n",
    "            result = add(num1, num2)\n",
    "            operation = \"Addition\"\n",
    "        elif choice == \"2\":\n",
    "            result = subtract(num1, num2)\n",
    "            operation = \"Subtraction\"\n",
    "        elif choice == \"3\":\n",
    "            result = multiply(num1, num2)\n",
    "            operation = \"Multiplication\"\n",
    "        elif choice == \"4\":\n",
    "            result = divide(num1, num2)\n",
    "            operation = \"Division\"\n",
    "\n",
    "        print(f\"\\n{operation} of {num1} and {num2} is: {result}\")\n",
    "    else:\n",
    "        print(\"Invalid choice! Please select a valid option.\")\n"
   ]
  },
  {
   "cell_type": "code",
   "execution_count": 2,
   "id": "ff7824e9-422c-4b3c-8540-1714f76aff28",
   "metadata": {},
   "outputs": [
    {
     "name": "stdout",
     "output_type": "stream",
     "text": [
      "Maximum CGPA: 10.0\n",
      "Minimum CGPA: 5.54\n",
      "\n",
      "Counts of repeated CGPAs:\n",
      "CGPA 8.91 appears 2 times\n",
      "CGPA 8.88 appears 2 times\n",
      "CGPA 7.95 appears 2 times\n",
      "CGPA 9.01 appears 2 times\n",
      "\n",
      "Original CGPA List:\n",
      "[8.91, 8.88, 7.95, 5.54, 9.01, 8.91, 8.88, 7.06, 9.01, 10.0, 7.95, 9.96]\n",
      "\n",
      "List of CGPAs less than 8:\n",
      "[7.95, 5.54, 7.06, 7.95]\n"
     ]
    }
   ],
   "source": [
    "# List of CGPA details\n",
    "cgpa_list = [8.91, 8.88, 7.95, 5.54, 9.01, 8.91, 8.88, 7.06, 9.01, 10.00, 7.95, 9.96]\n",
    "\n",
    "# i. Find maximum and minimum CGPA\n",
    "max_cgpa = max(cgpa_list)\n",
    "min_cgpa = min(cgpa_list)\n",
    "print(f\"Maximum CGPA: {max_cgpa}\")\n",
    "print(f\"Minimum CGPA: {min_cgpa}\")\n",
    "\n",
    "# ii. Display the count of repeated elements and print the list\n",
    "repeated_elements = {}\n",
    "for cgpa in cgpa_list:\n",
    "    if cgpa_list.count(cgpa) > 1:\n",
    "        repeated_elements[cgpa] = cgpa_list.count(cgpa)\n",
    "\n",
    "print(\"\\nCounts of repeated CGPAs:\")\n",
    "for cgpa, count in repeated_elements.items():\n",
    "    print(f\"CGPA {cgpa} appears {count} times\")\n",
    "\n",
    "print(\"\\nOriginal CGPA List:\")\n",
    "print(cgpa_list)\n",
    "\n",
    "# iii. Display a list with less than 8 CGPA\n",
    "less_than_8 = [cgpa for cgpa in cgpa_list if cgpa < 8]\n",
    "print(\"\\nList of CGPAs less than 8:\")\n",
    "print(less_than_8)\n"
   ]
  },
  {
   "cell_type": "code",
   "execution_count": 6,
   "id": "6ddfedb1-a473-4c94-824c-f36b3abbe34b",
   "metadata": {},
   "outputs": [
    {
     "name": "stdout",
     "output_type": "stream",
     "text": [
      "Addition is 12\n"
     ]
    }
   ],
   "source": [
    "def basic(n1,n2):\n",
    "    a=n1+n2\n",
    "    b=n1-n2\n",
    "    c=n1*n2\n",
    "    l=[a,b,c]\n",
    "    return l\n",
    "x=basic(10,2)\n",
    "print(f\"Addition is {x[0]}\")\n",
    "    "
   ]
  },
  {
   "cell_type": "code",
   "execution_count": 7,
   "id": "e3a8c551-f756-461e-b3cc-2d357d5ad4c4",
   "metadata": {},
   "outputs": [
    {
     "name": "stdout",
     "output_type": "stream",
     "text": [
      "Original String 1: The cat sat on the mat.\n",
      "Generated String 1: The rat sat on the hat.\n",
      "\n",
      "Original String 2: I like to eat pizza.\n",
      "Generated String 2: I like to beat pizza.\n"
     ]
    }
   ],
   "source": [
    "# Function to replace substring if the replacement exists in the main string\n",
    "def replace_substring(main_string, old_substring, new_substring):\n",
    "    if old_substring in main_string:\n",
    "        return main_string.replace(old_substring, new_substring)\n",
    "    else:\n",
    "        print(f\"'{old_substring}' not found in the main string: '{main_string}'\")\n",
    "        return main_string\n",
    "\n",
    "# i. Reading the main string\n",
    "main_string1 = \"The cat sat on the mat.\"\n",
    "print(\"Original String 1:\", main_string1)\n",
    "\n",
    "# Replacing substrings in the main string\n",
    "generated_string1 = replace_substring(main_string1, \"cat\", \"rat\")\n",
    "generated_string1 = replace_substring(generated_string1, \"mat\", \"hat\")\n",
    "print(\"Generated String 1:\", generated_string1)\n",
    "\n",
    "# iii. Reading another main string\n",
    "main_string2 = \"I like to eat pizza.\"\n",
    "print(\"\\nOriginal String 2:\", main_string2)\n",
    "\n",
    "# Replacing substring in the second main string\n",
    "generated_string2 = replace_substring(main_string2, \"eat\", \"beat\")\n",
    "print(\"Generated String 2:\", generated_string2)\n"
   ]
  },
  {
   "cell_type": "code",
   "execution_count": 9,
   "id": "3d96b7b7-5116-4955-b851-0ad4b4bbfee3",
   "metadata": {},
   "outputs": [
    {
     "name": "stdout",
     "output_type": "stream",
     "text": [
      "Substring 'See' not found in the main string.\n",
      "Substring 'put' found at index 3 in the main string.\n",
      "Substring 'Engine' found at index 21 in the main string.\n"
     ]
    }
   ],
   "source": [
    "main_string3 = \"Computer Science and Engineering\"\n",
    "\n",
    "sub_strings = [\"See\", \"put\", \"Engine\"]\n",
    "\n",
    "for sub in sub_strings:\n",
    "    start_idx = main_string3.find(sub)\n",
    "    if start_idx != -1:\n",
    "        print(f\"Substring '{sub}' found at index {start_idx} in the main string.\")\n",
    "    else:\n",
    "        print(f\"Substring '{sub}' not found in the main string.\")\n"
   ]
  },
  {
   "cell_type": "code",
   "execution_count": 13,
   "id": "6ba44a50-e32a-403a-91dd-684a37050f2b",
   "metadata": {},
   "outputs": [
    {
     "name": "stdin",
     "output_type": "stream",
     "text": [
      "Enter IA1-MARKS 14\n",
      "Enter IA2-MARKS 17\n",
      "Enter IA1-MARKS 20\n"
     ]
    },
    {
     "name": "stdout",
     "output_type": "stream",
     "text": [
      "[14, 17, 20]\n",
      "First max mark: 20\n",
      "Second max mark: 17\n"
     ]
    }
   ],
   "source": [
    "l=[]\n",
    "ia1=int(input('Enter IA1-MARKS'))\n",
    "l.append(ia1)\n",
    "ia2=int(input('Enter IA2-MARKS'))\n",
    "l.append(ia2)\n",
    "ia3=int(input('Enter IA1-MARKS'))\n",
    "l.append(ia3)\n",
    "print(l)\n",
    "l.sort(reverse=True)\n",
    "first_max = l[0]\n",
    "second_max = l[1]\n",
    "\n",
    "print(\"First max mark:\", first_max)\n",
    "print(\"Second max mark:\", second_max)"
   ]
  },
  {
   "cell_type": "code",
   "execution_count": 14,
   "id": "c02a2682-c13d-4bf8-a545-6a8a342dc806",
   "metadata": {},
   "outputs": [
    {
     "name": "stdin",
     "output_type": "stream",
     "text": [
      "Enter the number of integers:  5\n",
      "Enter integer 1:  21\n",
      "Enter integer 2:  22\n",
      "Enter integer 3:  41\n",
      "Enter integer 4:  42\n",
      "Enter integer 5:  45\n"
     ]
    },
    {
     "name": "stdout",
     "output_type": "stream",
     "text": [
      "Even numbers: [22, 42]\n",
      "Sum of even numbers: 64\n"
     ]
    }
   ],
   "source": [
    "# Accept N integers from the user\n",
    "N = int(input(\"Enter the number of integers: \"))\n",
    "\n",
    "# Initialize an empty list to store the numbers\n",
    "numbers = []\n",
    "\n",
    "# Accept N integers\n",
    "for i in range(N):\n",
    "    num = int(input(f\"Enter integer {i + 1}: \"))\n",
    "    numbers.append(num)\n",
    "\n",
    "# Filter even numbers and calculate their sum\n",
    "even_numbers = [num for num in numbers if num % 2 == 0]\n",
    "even_sum = sum(even_numbers)\n",
    "\n",
    "# Print the even numbers and their sum\n",
    "print(\"Even numbers:\", even_numbers)\n",
    "print(\"Sum of even numbers:\", even_sum)\n"
   ]
  },
  {
   "cell_type": "code",
   "execution_count": 36,
   "id": "796cfca6-7acd-444d-9e9b-aaf2a7d88afe",
   "metadata": {},
   "outputs": [
    {
     "name": "stdout",
     "output_type": "stream",
     "text": [
      "Original array:\n",
      "[[20 21 22 23 24 25 26 27 28 29 30 31 32 33 34 35 36 37 38 39]\n",
      " [40 41 42 43 44 45 46 47 48 49 50 51 52 53 54 55 56 57 58 59]]\n",
      "Even numbers followed by odd numbers:\n",
      "[20, 22, 24, 26, 28, 30, 32, 34, 36, 38, 40, 42, 44, 46, 48, 50, 52, 54, 56, 58, 21, 23, 25, 27, 29, 31, 33, 35, 37, 39, 41, 43, 45, 47, 49, 51, 53, 55, 57, 59]\n",
      "[[20 22 24]\n",
      " [26 28 30]\n",
      " [32 34 36]]\n"
     ]
    },
    {
     "data": {
      "image/png": "[encoded data removed]",
      "text/plain": [
       "<Figure size 640x480 with 1 Axes>"
      ]
     },
     "metadata": {},
     "output_type": "display_data"
    },
    {
     "data": {
      "image/png": "[encoded data removed]",
      "text/plain": [
       "<Figure size 1000x500 with 1 Axes>"
      ]
     },
     "metadata": {},
     "output_type": "display_data"
    },
    {
     "data": {
      "image/png": "[encoded data removed]",
      "text/plain": [
       "<Figure size 1000x500 with 1 Axes>"
      ]
     },
     "metadata": {},
     "output_type": "display_data"
    },
    {
     "data": {
      "image/png": "[encoded data removed]",
      "text/plain": [
       "<Figure size 640x480 with 1 Axes>"
      ]
     },
     "metadata": {},
     "output_type": "display_data"
    },
    {
     "name": "stdout",
     "output_type": "stream",
     "text": [
      "9\n",
      "(3, 3)\n",
      "[[20 26 32]\n",
      " [22 28 34]\n",
      " [24 30 36]]\n"
     ]
    }
   ],
   "source": [
    "import numpy as np\n",
    "import matplotlib.pyplot as plt\n",
    "# Create a 2D array using arange and reshape\n",
    "a = np.arange(20, 60, 1).reshape(2, 20)\n",
    "print(\"Original array:\")\n",
    "print(a)\n",
    "\n",
    "# Collect even numbers and odd numbers (convert to Python int)\n",
    "b = [int(x) for x in a.flatten() if x % 2 == 0]\n",
    "b += [int(x) for x in a.flatten() if x % 2 != 0]\n",
    "\n",
    "# Print the list with even numbers followed by odd numbers\n",
    "print(\"Even numbers followed by odd numbers:\")\n",
    "print(b)\n",
    "even=[int(x) for x in b if x%2==0]\n",
    "odd=[int(x) for x in b if x%2!=0]\n",
    "c=np.array(even[:9]).reshape(3,3)\n",
    "print(c)\n",
    "plt.plot(c.flatten(), marker='o', color='b', linestyle='-', linewidth=2, markersize=8, label='Even Numbers')\n",
    "plt.title('Line Graph of Even Numbers in 3x3 Matrix')\n",
    "plt.xlabel('Index')\n",
    "plt.ylabel('Value')\n",
    "plt.show()\n",
    "\n",
    "plt.figure(figsize=(10, 5))\n",
    "plt.boxplot(c.flatten())\n",
    "plt.show()\n",
    "\n",
    "plt.figure(figsize=(10, 5))\n",
    "plt.bar(range(len(c.flatten())), c.flatten(), color='cyan', edgecolor='black')\n",
    "plt.title('Bar Graph of Even Numbers in 3x3 Matrix')\n",
    "plt.xlabel('Index')\n",
    "plt.ylabel('Value')\n",
    "plt.show()\n",
    "\n",
    "plt.hist(c.flatten(), bins=5, color='purple', edgecolor='black', alpha=0.7)\n",
    "plt.show()\n",
    "print(np.size(c))\n",
    "print(np.shape(c))\n",
    "print(c.T)\n",
    "\n"
   ]
  },
  {
   "cell_type": "code",
   "execution_count": 46,
   "id": "4102128a-097b-41c2-9e41-4c28d4a47d64",
   "metadata": {},
   "outputs": [
    {
     "name": "stdout",
     "output_type": "stream",
     "text": [
      "['Anand Gupta' 'Kamalesh G' 'Rita K' 'Ritesh Kumar' 'Shree']\n",
      "\n",
      "Unique Cities:\n",
      "['Delhi' 'Dharwad' 'Hubli' 'Mumbai']\n",
      "\n",
      "Customers from Delhi:\n",
      "[('Anand Gupta', 2345678, 'Delhi') ('Anand Gupta', 2345678, 'Delhi')]\n",
      "\n",
      "3x3 Matrix from last row (telephone numbers):\n",
      "[2445670 2456704 2345678 2345678 2564738 2349875 2543679]\n"
     ]
    }
   ],
   "source": [
    "import numpy as np\n",
    "\n",
    "# Define the customer data as a structured numpy array\n",
    "customer_data = np.array([\n",
    "    ('Rita K', 2445670, 'Dharwad'),\n",
    "    ('Rita K', 2456704, 'Hubli'),\n",
    "    ('Anand Gupta', 2345678, 'Delhi'),\n",
    "    ('Anand Gupta', 2345678, 'Delhi'),\n",
    "    ('Shree', 2564738, 'Mumbai'),\n",
    "    ('Ritesh Kumar', 2349875, 'Mumbai'),\n",
    "    ('Kamalesh G', 2543679, 'Hubli')\n",
    "], dtype=[('name', 'U20'), ('phone', 'i8'), ('city', 'U20')])\n",
    "\n",
    "print(np.unique(customer_data['name']))\n",
    "unique_cities = np.unique(customer_data['city'])\n",
    "print(\"\\nUnique Cities:\")\n",
    "print(unique_cities)\n",
    "\n",
    "delhi_customers = customer_data[customer_data['city'] == 'Delhi']\n",
    "print(\"\\nCustomers from Delhi:\")\n",
    "print(delhi_customers)\n",
    "\n",
    "last_row_phones = customer_data['phone'][:9]  # Taking last 3 telephone numbers\n",
    "matrix_3x3 = np.array(last_row_phones)\n",
    "print(\"\\n3x3 Matrix from last row (telephone numbers):\")\n",
    "print(matrix_3x3)"
   ]
  },
  {
   "cell_type": "code",
   "execution_count": 60,
   "id": "05f116bd-14c5-439f-be5e-47880d37c364",
   "metadata": {},
   "outputs": [
    {
     "name": "stdout",
     "output_type": "stream",
     "text": [
      "Dataset:\n",
      "  Farmer Name Plant Sowed Revenue Generated\n",
      "0     Basappa   Sugarcane            234567\n",
      "1    Kariappa   Sunflower            176543\n",
      "2  Kumarswamy     Mangoes            345367\n",
      "3    Muniappa  Vegetables             75000\n",
      "4    Yallappa  Red Chilli            98550 \n",
      "5    Sommappa     Mangoes           566555 \n",
      "\n",
      "The dataset has been saved to 'farmers_data.json'.\n",
      "\n",
      "Duplicate entries based on 'Plant Sowed':\n",
      "  Farmer Name Plant Sowed  Revenue Generated\n",
      "2  Kumarswamy     Mangoes             345367\n",
      "5    Sommappa     Mangoes             566555\n",
      "****************************************\n",
      "The average revenue generated by Mangoes plants is: 455961.0\n",
      "****************************************\n"
     ]
    },
    {
     "data": {
      "image/png": "[encoded data removed]",
      "text/plain": [
       "<Figure size 640x480 with 1 Axes>"
      ]
     },
     "metadata": {},
     "output_type": "display_data"
    },
    {
     "data": {
      "image/png": "[encoded data removed]",
      "text/plain": [
       "<Figure size 800x600 with 1 Axes>"
      ]
     },
     "metadata": {},
     "output_type": "display_data"
    }
   ],
   "source": [
    "import pandas as pd\n",
    "import matplotlib.pyplot as plt\n",
    "# Create the dataset as a dictionary\n",
    "data = {\n",
    "    'Farmer Name': ['Basappa', 'Kariappa', 'Kumarswamy', 'Muniappa', 'Yallappa', 'Sommappa'],\n",
    "    'Plant Sowed': ['Sugarcane', 'Sunflower', 'Mangoes', 'Vegetables', 'Red Chilli', 'Mangoes'],\n",
    "    'Revenue Generated': ['234567', '176543', '345367', '75000', '98550 ', '566555 ']\n",
    "}\n",
    "\n",
    "# Convert the dictionary into a pandas DataFrame\n",
    "df = pd.DataFrame(data)\n",
    "\n",
    "# Display the DataFrame\n",
    "print(\"Dataset:\")\n",
    "print(df)\n",
    "\n",
    "# Save the DataFrame to a JSON file with proper formatting\n",
    "df.to_json('farmers_data.json', orient='records', lines=True)\n",
    "\n",
    "print(\"\\nThe dataset has been saved to 'farmers_data.json'.\")\n",
    "df = pd.read_json('farmers_data.json', lines=True)\n",
    "\n",
    "# Find duplicate 'Plant Sowed' values\n",
    "duplicates = df[df.duplicated(subset='Plant Sowed', keep=False)]\n",
    "\n",
    "# Display the rows with duplicate 'Plant Sowed' values\n",
    "print(\"\\nDuplicate entries based on 'Plant Sowed':\")\n",
    "print(duplicates)\n",
    "\n",
    "print(40*'*')\n",
    "\n",
    "# Filter for Mangoes and convert 'Revenue Generated' to numeric\n",
    "mangoes_data = df[df['Plant Sowed'] == 'Mangoes']\n",
    "\n",
    "# Use .loc to modify the 'Revenue Generated' column\n",
    "mangoes_data.loc[:, 'Revenue Generated'] = mangoes_data['Revenue Generated'].astype(float)\n",
    "\n",
    "# Calculate the average revenue for Mangoes\n",
    "revenue = mangoes_data['Revenue Generated'].mean()\n",
    "\n",
    "# Display the result\n",
    "print(f\"The average revenue generated by Mangoes plants is: {revenue}\")\n",
    "print(40*'*')\n",
    "unique=df.drop_duplicates(subset='Plant Sowed')\n",
    "duplicates=df[df.duplicated(subset='Plant Sowed',keep=False)]\n",
    "uc=unique['Plant Sowed'].value_counts()\n",
    "plt.bar(uc.index, uc.values, color='skyblue')\n",
    "plt.title(\"Bar Graph for Unique Plant Sowed\")\n",
    "plt.xlabel(\"Plant Sowed\")\n",
    "plt.ylabel(\"Count\")\n",
    "plt.xticks(rotation=45)\n",
    "plt.show()\n",
    "\n",
    "plt.figure(figsize=(8, 6))\n",
    "duplicate_counts = duplicates['Plant Sowed'].value_counts()\n",
    "plt.pie(duplicate_counts, labels=duplicate_counts.index, autopct='%1.1f%%', startangle=90, colors=['lightcoral', 'gold'])\n",
    "plt.title(\"Pie Chart for Duplicate Plant Sowed\")\n",
    "plt.axis('equal')  # Equal aspect ratio ensures that pie is drawn as a circle.\n",
    "plt.show()"
   ]
  },
  {
   "cell_type": "code",
   "execution_count": 64,
   "id": "3a5e3230-4396-4499-9c22-e5f722965d01",
   "metadata": {},
   "outputs": [
    {
     "name": "stdout",
     "output_type": "stream",
     "text": [
      "\n",
      "Null Value Counts:\n",
      "Farmer Name          0\n",
      "Plant Sowed          0\n",
      "Revenue Generated    0\n",
      "dtype: int64\n",
      "\n",
      "Non-Null Value Counts:\n",
      "Farmer Name          6\n",
      "Plant Sowed          6\n",
      "Revenue Generated    6\n",
      "dtype: int64\n"
     ]
    },
    {
     "data": {
      "image/png": "[encoded data removed]",
      "text/plain": [
       "<Figure size 800x600 with 1 Axes>"
      ]
     },
     "metadata": {},
     "output_type": "display_data"
    },
    {
     "data": {
      "image/png": "[encoded data removed]",
      "text/plain": [
       "<Figure size 800x600 with 1 Axes>"
      ]
     },
     "metadata": {},
     "output_type": "display_data"
    }
   ],
   "source": [
    "import pandas as pd\n",
    "import matplotlib.pyplot as plt\n",
    "\n",
    "# Create the dataset as a dictionary\n",
    "data = {\n",
    "    'Farmer Name': ['Basappa', 'Kariappa', 'Kumarswamy', 'Muniappa', 'Yallappa', 'Sommappa'],\n",
    "    'Plant Sowed': ['Sugarcane', 'Sunflower', 'Mangoes', 'Vegetables', 'Red Chilli', 'Mangoes'],\n",
    "    'Revenue Generated': ['234567', '176543', '345367', '75000', '98550 ', '566555 ']\n",
    "}\n",
    "\n",
    "# Convert the dictionary into a pandas DataFrame\n",
    "df = pd.DataFrame(data)\n",
    "\n",
    "# Save the DataFrame to a JSON file with proper formatting\n",
    "df.to_json('farmers_data.json', orient='records', lines=True)\n",
    "\n",
    "# Read the data from the JSON file\n",
    "df = pd.read_json('farmers_data.json', lines=True)\n",
    "\n",
    "# Find unique data points\n",
    "unique_data = df.drop_duplicates(subset='Plant Sowed')\n",
    "\n",
    "# Find duplicate 'Plant Sowed' values\n",
    "duplicates = df[df.duplicated(subset='Plant Sowed', keep=False)]\n",
    "null_counts = df.isnull().sum()  # Count of null values\n",
    "non_null_counts = df.notnull().sum()  # Count of non-null values\n",
    "\n",
    "print(\"\\nNull Value Counts:\")\n",
    "print(null_counts)\n",
    "\n",
    "print(\"\\nNon-Null Value Counts:\")\n",
    "print(non_null_counts)\n",
    "\n",
    "# Plot Bar Graph for Unique Data Points\n",
    "plt.figure(figsize=(8, 6))\n",
    "unique_counts = unique_data['Plant Sowed'].value_counts()\n",
    "plt.bar(unique_counts.index, unique_counts.values, color='skyblue')\n",
    "plt.title(\"Bar Graph for Unique Plant Sowed\")\n",
    "plt.xlabel(\"Plant Sowed\")\n",
    "plt.ylabel(\"Count\")\n",
    "plt.xticks(rotation=45)\n",
    "plt.show()\n",
    "\n",
    "if not duplicate_counts.empty:\n",
    "    plt.figure(figsize=(8, 6))\n",
    "    plt.pie(duplicate_counts, labels=duplicate_counts.index, autopct='%1.1f%%', startangle=90, colors=['lightcoral', 'gold'])\n",
    "    plt.title(\"Pie Chart for Duplicate Plant Sowed\")\n",
    "    plt.axis('equal')  # Equal aspect ratio ensures that pie is drawn as a circle.\n",
    "    plt.show()\n",
    "else:\n",
    "    print(\"No duplicate 'Plant Sowed' data found.\")\n",
    "    "
   ]
  },
  {
   "cell_type": "code",
   "execution_count": 74,
   "id": "a0724838-6803-4f00-bcd7-bf943b98c1c2",
   "metadata": {},
   "outputs": [
    {
     "name": "stdout",
     "output_type": "stream",
     "text": [
      "[[[1]\n",
      "  [0]\n",
      "  [1]\n",
      "  [0]]\n",
      "\n",
      " [[1]\n",
      "  [1]\n",
      "  [1]\n",
      "  [0]]]\n",
      "Binary digits array:\n",
      "[1 0 1 0]\n",
      "2x2 Matrix from Slicing:\n",
      "[[1 0]\n",
      " [1 1]]\n",
      "****************************************\n",
      "[[1 0]\n",
      " [1 1]]\n",
      "****************************************\n",
      "[0 1 0 1]\n"
     ]
    }
   ],
   "source": [
    "import numpy as np\n",
    "\n",
    "# Lists provided\n",
    "list1 = [1, 0, 1, 0]\n",
    "list2 = [1, 1, 1, 0]\n",
    "\n",
    "# Create a NumPy array from the lists\n",
    "array = np.array([list1, list2])\n",
    "\n",
    "# Print the created array\n",
    "reshaped_array = array.reshape(2, 4, 1)\n",
    "\n",
    "# Print the reshaped array\n",
    "print(reshaped_array)\n",
    "binary_digits = array[0, :]  # Indexing to extract the first row [1, 0, 1, 0]\n",
    "\n",
    "# Print the binary digits array\n",
    "print(\"Binary digits array:\")\n",
    "print(binary_digits)\n",
    "matrix_2x2 = reshaped_array[0:2, 0:2, 0]  # Slicing to get the first 2 rows and 2 columns\n",
    "\n",
    "# Print the resulting 2x2 matrix\n",
    "print(\"2x2 Matrix from Slicing:\")\n",
    "print(matrix_2x2)\n",
    "print(40*'*')\n",
    "print(reshaped_array[:, :2, 0] )\n",
    "print(40*'*')\n",
    "print(binary_digits[::-1])"
   ]
  },
  {
   "cell_type": "code",
   "execution_count": 75,
   "id": "3a38a6a8-73f8-4ad6-b323-c39012536108",
   "metadata": {},
   "outputs": [
    {
     "name": "stdout",
     "output_type": "stream",
     "text": [
      "Modified String (ii): The rat sat on the hat.\n",
      "Modified String (iii): I like to beat pizza.\n"
     ]
    }
   ],
   "source": [
    "# File path to store the strings\n",
    "file_path = \"sample_text.txt\"\n",
    "\n",
    "# i) Store the strings into the file\n",
    "string1 = \"The cat sat on the mat.\"\n",
    "string2 = \"I like to eat pizza.\"\n",
    "\n",
    "# Write the strings to the file\n",
    "with open(file_path, \"w\") as file:\n",
    "    file.write(string1 + \"\\n\")\n",
    "    file.write(string2 + \"\\n\")\n",
    "\n",
    "# ii) Read the first string and modify it using slicing\n",
    "with open(file_path, \"r\") as file:\n",
    "    first_string = file.readline().strip()  # Read the first line\n",
    "\n",
    "# Modify the string \"The cat sat on the mat.\"\n",
    "modified_first_string = first_string.replace(\"cat\", \"rat\").replace(\"mat\", \"hat\")\n",
    "\n",
    "print(\"Modified String (ii):\", modified_first_string)\n",
    "\n",
    "# iii) Read the second string and modify it using slicing\n",
    "with open(file_path, \"r\") as file:\n",
    "    file.readline()  # Skip the first line\n",
    "    second_string = file.readline().strip()  # Read the second line\n",
    "\n",
    "# Modify the string \"I like to eat pizza\"\n",
    "modified_second_string = second_string.replace(\"eat\", \"beat\")\n",
    "\n",
    "print(\"Modified String (iii):\", modified_second_string)\n"
   ]
  },
  {
   "cell_type": "code",
   "execution_count": 76,
   "id": "099aa74b-0d41-43e4-b671-8aa3b19a5f31",
   "metadata": {},
   "outputs": [
    {
     "name": "stdout",
     "output_type": "stream",
     "text": [
      "Integer division of 10 and 3 is: 3\n",
      "2^3 % 5 is: 3\n",
      "Formatted value to 2 decimal places: 123.46\n"
     ]
    }
   ],
   "source": [
    "# i. Integer Division\n",
    "def integer_division(a, b):\n",
    "    if b != 0:\n",
    "        return a // b  # Integer division (floor division)\n",
    "    else:\n",
    "        return \"Division by zero is not allowed.\"\n",
    "\n",
    "# ii. pow(a, b, c) - Computes (a^b) % c\n",
    "def power_modulo(a, b, c):\n",
    "    return pow(a, b, c)  # Returns (a^b) % c\n",
    "\n",
    "# iii. format() - Format a number or string in a specific format\n",
    "def format_example(value):\n",
    "    return format(value, \"0.2f\")  # Format the value to 2 decimal places\n",
    "\n",
    "# Testing the functions\n",
    "\n",
    "# Integer Division\n",
    "a = 10\n",
    "b = 3\n",
    "print(f\"Integer division of {a} and {b} is: {integer_division(a, b)}\")\n",
    "\n",
    "# Power Modulo\n",
    "a, b, c = 2, 3, 5\n",
    "print(f\"{a}^{b} % {c} is: {power_modulo(a, b, c)}\")\n",
    "\n",
    "# Format Example\n",
    "value = 123.4567\n",
    "print(f\"Formatted value to 2 decimal places: {format_example(value)}\")\n"
   ]
  },
  {
   "cell_type": "code",
   "execution_count": 77,
   "id": "f0d0ee49-a7b2-4014-b7ae-52d4e8efb121",
   "metadata": {},
   "outputs": [
    {
     "name": "stdin",
     "output_type": "stream",
     "text": [
      "Enter the department (CSE, ECE, ME, CHE):  CSE\n"
     ]
    },
    {
     "name": "stdout",
     "output_type": "stream",
     "text": [
      "Open Electives for Computer Science Engineering (CSE):\n",
      "- Data Structures\n",
      "- Machine Learning\n",
      "- Artificial Intelligence\n",
      "- Web Development\n",
      "- Cybersecurity\n"
     ]
    }
   ],
   "source": [
    "def display_open_electives(department_choice):\n",
    "    # List of open electives for different departments\n",
    "    electives = {\n",
    "        \"CSE\": [\"Data Structures\", \"Machine Learning\", \"Artificial Intelligence\", \"Web Development\", \"Cybersecurity\"],\n",
    "        \"ECE\": [\"Digital Circuits\", \"Signal Processing\", \"Embedded Systems\", \"VLSI Design\", \"IoT\"],\n",
    "        \"ME\": [\"Thermodynamics\", \"Fluid Mechanics\", \"Manufacturing Processes\", \"Machine Design\", \"Heat Transfer\"],\n",
    "        \"CHE\": [\"Process Control\", \"Chemical Reaction Engineering\", \"Fluid Mechanics\", \"Mass Transfer\", \"Heat Exchanger Design\"]\n",
    "    }\n",
    "\n",
    "    # Check the department choice and display corresponding electives\n",
    "    if department_choice == \"CSE\":\n",
    "        print(\"Open Electives for Computer Science Engineering (CSE):\")\n",
    "        for elective in electives[\"CSE\"]:\n",
    "            print(f\"- {elective}\")\n",
    "    elif department_choice == \"ECE\":\n",
    "        print(\"Open Electives for Electronics and Communication Engineering (ECE):\")\n",
    "        for elective in electives[\"ECE\"]:\n",
    "            print(f\"- {elective}\")\n",
    "    elif department_choice == \"ME\":\n",
    "        print(\"Open Electives for Mechanical Engineering (ME):\")\n",
    "        for elective in electives[\"ME\"]:\n",
    "            print(f\"- {elective}\")\n",
    "    elif department_choice == \"CHE\":\n",
    "        print(\"Open Electives for Chemical Engineering (CHE):\")\n",
    "        for elective in electives[\"CHE\"]:\n",
    "            print(f\"- {elective}\")\n",
    "    else:\n",
    "        print(\"Invalid department choice. Please select from CSE, ECE, ME, or CHE.\")\n",
    "\n",
    "# Prompt the user for input and display electives\n",
    "department_choice = input(\"Enter the department (CSE, ECE, ME, CHE): \").upper()\n",
    "\n",
    "# Call the function to display electives based on the user's choice\n",
    "display_open_electives(department_choice)\n"
   ]
  },
  {
   "cell_type": "code",
   "execution_count": 78,
   "id": "42a3e304-46c7-4f0d-95b6-03e335162fba",
   "metadata": {},
   "outputs": [
    {
     "name": "stdout",
     "output_type": "stream",
     "text": [
      "find(): The index of 'Python' in the string is: 9\n",
      "startswith(): Does the string start with '  Hello'? True\n",
      "endswith(): Does the string end with 'World!  '? True\n",
      "strip(): After stripping spaces: 'Hello, Python World!'\n",
      "rstrip(): After removing trailing spaces: '  Hello, Python World!'\n",
      "lstrip(): After removing leading spaces: 'Hello, Python World!  '\n"
     ]
    }
   ],
   "source": [
    "# Example string\n",
    "example_string = \"  Hello, Python World!  \"\n",
    "\n",
    "# i) find() - Finds the first occurrence of a substring and returns its index, or -1 if not found.\n",
    "substring = \"Python\"\n",
    "index = example_string.find(substring)\n",
    "print(f\"find(): The index of '{substring}' in the string is: {index}\")\n",
    "\n",
    "# ii) startswith() - Checks if the string starts with a specified substring\n",
    "starts = example_string.startswith(\"  Hello\")\n",
    "print(f\"startswith(): Does the string start with '  Hello'? {starts}\")\n",
    "\n",
    "# iii) endswith() - Checks if the string ends with a specified substring\n",
    "ends = example_string.endswith(\"World!  \")\n",
    "print(f\"endswith(): Does the string end with 'World!  '? {ends}\")\n",
    "\n",
    "# iv) strip() - Removes leading and trailing spaces from the string\n",
    "stripped = example_string.strip()\n",
    "print(f\"strip(): After stripping spaces: '{stripped}'\")\n",
    "\n",
    "# v) rstrip() - Removes trailing spaces from the string\n",
    "rstripped = example_string.rstrip()\n",
    "print(f\"rstrip(): After removing trailing spaces: '{rstripped}'\")\n",
    "\n",
    "# vi) lstrip() - Removes leading spaces from the string\n",
    "lstripped = example_string.lstrip()\n",
    "print(f\"lstrip(): After removing leading spaces: '{lstripped}'\")\n"
   ]
  },
  {
   "cell_type": "code",
   "execution_count": 79,
   "id": "af1d3e1b-0649-4290-8f14-950117287ad5",
   "metadata": {},
   "outputs": [
    {
     "name": "stdout",
     "output_type": "stream",
     "text": [
      "list(): ['H', 'e', 'l', 'l', 'o']\n",
      "len(): The length of the sample list is: 8\n",
      "count(): The number of occurrences of '2' in the list is: 2\n",
      "index(): The first occurrence of '3' is at index: 2\n",
      "append(): List after appending '7': [1, 2, 3, 4, 5, 2, 3, 6, 7]\n",
      "insert(): List after inserting '10' at index 3: [1, 2, 3, 10, 4, 5, 2, 3, 6, 7]\n",
      "extend(): List after extending with [8, 9]: [1, 2, 3, 10, 4, 5, 2, 3, 6, 7, 8, 9]\n",
      "remove(): List after removing '3': [1, 2, 10, 4, 5, 2, 3, 6, 7, 8, 9]\n"
     ]
    }
   ],
   "source": [
    "# Initial list for demonstration\n",
    "sample_list = [1, 2, 3, 4, 5, 2, 3, 6]\n",
    "\n",
    "# i) list() - Converts an iterable (like a string or range) into a list\n",
    "string = \"Hello\"\n",
    "list_from_string = list(string)\n",
    "print(f\"list(): {list_from_string}\")  # Converts string to list of characters\n",
    "\n",
    "# ii) len() - Returns the length (number of elements) of the list\n",
    "list_length = len(sample_list)\n",
    "print(f\"len(): The length of the sample list is: {list_length}\")\n",
    "\n",
    "# iii) count() - Returns the number of occurrences of an element in the list\n",
    "count_of_2 = sample_list.count(2)\n",
    "print(f\"count(): The number of occurrences of '2' in the list is: {count_of_2}\")\n",
    "\n",
    "# iv) index() - Returns the index of the first occurrence of an element\n",
    "index_of_3 = sample_list.index(3)\n",
    "print(f\"index(): The first occurrence of '3' is at index: {index_of_3}\")\n",
    "\n",
    "# v) append() - Adds an element to the end of the list\n",
    "sample_list.append(7)\n",
    "print(f\"append(): List after appending '7': {sample_list}\")\n",
    "\n",
    "# vi) insert() - Inserts an element at a specific index in the list\n",
    "sample_list.insert(3, 10)  # Insert 10 at index 3\n",
    "print(f\"insert(): List after inserting '10' at index 3: {sample_list}\")\n",
    "\n",
    "# vii) extend() - Extends the list by appending all elements from an iterable\n",
    "sample_list.extend([8, 9])\n",
    "print(f\"extend(): List after extending with [8, 9]: {sample_list}\")\n",
    "\n",
    "# viii) remove() - Removes the first occurrence of an element in the list\n",
    "sample_list.remove(3)  # Remove the first occurrence of 3\n",
    "print(f\"remove(): List after removing '3': {sample_list}\")\n"
   ]
  },
  {
   "cell_type": "code",
   "execution_count": 81,
   "id": "cc05e27b-7a03-4177-b56c-6801492a701b",
   "metadata": {},
   "outputs": [
    {
     "name": "stdout",
     "output_type": "stream",
     "text": [
      "dict(): {'name': 'John', 'age': 25, 'city': 'New York'}\n",
      "len(): The length of the dictionary is: 3\n",
      "clear(): Dictionary after clearing: {}\n",
      "get(): The value of 'name' is: John\n",
      "pop(): The value removed for 'age' is: 25\n",
      "Dictionary after pop: {'name': 'John', 'city': 'New York'}\n",
      "popitem(): The last item removed is: ('city', 'New York')\n",
      "Dictionary after popitem: {'name': 'John'}\n",
      "keys(): The keys in the dictionary are: dict_keys(['name'])\n",
      "values(): The values in the dictionary are: dict_values(['John'])\n",
      "items(): The key-value pairs in the dictionary are: dict_items([('name', 'John')])\n",
      "copy(): The copied dictionary is: {'name': 'John'}\n",
      "update(): The dictionary after update is: {'name': 'John', 'age': 30, 'country': 'USA'}\n"
     ]
    }
   ],
   "source": [
    "# i) dict() - Creates a dictionary using key-value pairs\n",
    "example_dict = dict(name=\"John\", age=25, city=\"New York\")\n",
    "print(f\"dict(): {example_dict}\")\n",
    "\n",
    "# ii) len() - Returns the number of items (key-value pairs) in the dictionary\n",
    "dict_length = len(example_dict)\n",
    "print(f\"len(): The length of the dictionary is: {dict_length}\")\n",
    "\n",
    "# iii) clear() - Removes all the items from the dictionary\n",
    "example_dict.clear()\n",
    "print(f\"clear(): Dictionary after clearing: {example_dict}\")\n",
    "\n",
    "# Re-creating dictionary for further examples\n",
    "example_dict = dict(name=\"John\", age=25, city=\"New York\")\n",
    "\n",
    "# iv) get() - Returns the value for the specified key if the key exists, otherwise returns None\n",
    "name = example_dict.get(\"name\")\n",
    "print(f\"get(): The value of 'name' is: {name}\")\n",
    "\n",
    "# v) pop() - Removes and returns the value of the specified key\n",
    "age = example_dict.pop(\"age\")\n",
    "print(f\"pop(): The value removed for 'age' is: {age}\")\n",
    "print(f\"Dictionary after pop: {example_dict}\")\n",
    "\n",
    "# vi) popitem() - Removes and returns the last inserted key-value pair as a tuple\n",
    "last_item = example_dict.popitem()\n",
    "print(f\"popitem(): The last item removed is: {last_item}\")\n",
    "print(f\"Dictionary after popitem: {example_dict}\")\n",
    "\n",
    "# vii) keys() - Returns a view object that displays all the keys in the dictionary\n",
    "keys = example_dict.keys()\n",
    "print(f\"keys(): The keys in the dictionary are: {keys}\")\n",
    "\n",
    "# viii) values() - Returns a view object that displays all the values in the dictionary\n",
    "values = example_dict.values()\n",
    "print(f\"values(): The values in the dictionary are: {values}\")\n",
    "items = example_dict.items()\n",
    "print(f\"items(): The key-value pairs in the dictionary are: {items}\")\n",
    "\n",
    "# x) copy() - Creates a shallow copy of the dictionary\n",
    "copied_dict = example_dict.copy()\n",
    "print(f\"copy(): The copied dictionary is: {copied_dict}\")\n",
    "\n",
    "# xi) update() - Updates the dictionary with elements from another dictionary or iterable\n",
    "update_dict = {\"age\": 30, \"country\": \"USA\"}\n",
    "example_dict.update(update_dict)\n",
    "print(f\"update(): The dictionary after update is: {example_dict}\")\n"
   ]
  },
  {
   "cell_type": "code",
   "execution_count": 82,
   "id": "82f27bb5-4541-4edc-b83f-27f6b87f2fcd",
   "metadata": {},
   "outputs": [
    {
     "name": "stdout",
     "output_type": "stream",
     "text": [
      "i) Unique customers:\n",
      "           name telephone     city\n",
      "0        Rita K   2445670  Dharwad\n",
      "2   Anand Gupta   2345678    Delhi\n",
      "4         Shree   2564738   Mumbai\n",
      "5  Ritesh Kumar   2349875   Mumbai\n",
      "6    Kamalesh G   2543679    Hubli\n",
      "\n",
      "ii) Cities in order without duplicates:\n",
      "2      Delhi\n",
      "0    Dharwad\n",
      "1      Hubli\n",
      "4     Mumbai\n",
      "Name: city, dtype: object\n",
      "\n",
      "iii) Customers from Delhi:\n",
      "          name telephone   city\n",
      "2  Anand Gupta   2345678  Delhi\n",
      "3  Anand Gupta   2345678  Delhi\n"
     ]
    }
   ],
   "source": [
    "import pandas as pd\n",
    "import json\n",
    "\n",
    "# Creating a list of dictionaries for customer details\n",
    "customer_data = [\n",
    "    {\"name\": \"Rita K\", \"telephone\": \"2445670\", \"city\": \"Dharwad\"},\n",
    "    {\"name\": \"Rita K\", \"telephone\": \"2456704\", \"city\": \"Hubli\"},\n",
    "    {\"name\": \"Anand Gupta\", \"telephone\": \"2345678\", \"city\": \"Delhi\"},\n",
    "    {\"name\": \"Anand Gupta\", \"telephone\": \"2345678\", \"city\": \"Delhi\"},\n",
    "    {\"name\": \"Shree\", \"telephone\": \"2564738\", \"city\": \"Mumbai\"},\n",
    "    {\"name\": \"Ritesh Kumar\", \"telephone\": \"2349875\", \"city\": \"Mumbai\"},\n",
    "    {\"name\": \"Kamalesh G\", \"telephone\": \"2543679\", \"city\": \"Hubli\"}\n",
    "]\n",
    "\n",
    "# Convert the list of customer data into a DataFrame\n",
    "df = pd.DataFrame(customer_data)\n",
    "\n",
    "# Store the customer details into a JSON file\n",
    "with open(\"customer_data.json\", \"w\") as file:\n",
    "    json.dump(customer_data, file, indent=4)\n",
    "\n",
    "# i) Display only unique customers (drop duplicates based on 'name')\n",
    "unique_customers = df.drop_duplicates(subset='name')\n",
    "print(\"i) Unique customers:\")\n",
    "print(unique_customers)\n",
    "\n",
    "# ii) Display city-wise in order without duplicates\n",
    "city_order = df['city'].drop_duplicates().sort_values()\n",
    "print(\"\\nii) Cities in order without duplicates:\")\n",
    "print(city_order)\n",
    "\n",
    "# iii) Display only customers from Delhi\n",
    "delhi_customers = df[df['city'] == \"Delhi\"]\n",
    "print(\"\\niii) Customers from Delhi:\")\n",
    "print(delhi_customers)\n"
   ]
  },
  {
   "cell_type": "code",
   "execution_count": 83,
   "id": "bfc1010c-ffbc-4924-9883-532fbee5bbf0",
   "metadata": {},
   "outputs": [
    {
     "name": "stdout",
     "output_type": "stream",
     "text": [
      "i) Loaded DataFrame from CSV:\n",
      "   Image1  Image2  Image3  Image4\n",
      "0       1       0       1       0\n",
      "1       0       1       0       1\n",
      "2       1       0       1       1\n",
      "3       0       1       1       0\n",
      "4       1       0       1       1\n",
      "\n",
      "ii) Drop duplicates, keep the first occurrence:\n",
      "   Image1  Image2  Image3  Image4\n",
      "0       1       0       1       0\n",
      "1       0       1       0       1\n",
      "2       1       0       1       1\n",
      "3       0       1       1       0\n",
      "\n",
      "Keep the last occurrence:\n",
      "   Image1  Image2  Image3  Image4\n",
      "0       1       0       1       0\n",
      "1       0       1       0       1\n",
      "3       0       1       1       0\n",
      "4       1       0       1       1\n",
      "\n",
      "Remove all duplicates (keep=False):\n",
      "   Image1  Image2  Image3  Image4\n",
      "0       1       0       1       0\n",
      "1       0       1       0       1\n",
      "3       0       1       1       0\n",
      "\n",
      "iii) Column-wise repeated data points:\n",
      "   Image1  Image2  Image3  Image4\n",
      "2       1       0       1       1\n",
      "4       1       0       1       1\n",
      "\n",
      "iv) Column-wise non-null count values:\n",
      "Image1    5\n",
      "Image2    5\n",
      "Image3    5\n",
      "Image4    5\n",
      "dtype: int64\n",
      "\n",
      "v) DataFrame with Image4 as an index:\n",
      "        Image1  Image2  Image3\n",
      "Image4                        \n",
      "0            1       0       1\n",
      "1            0       1       0\n",
      "1            1       0       1\n",
      "0            0       1       1\n",
      "1            1       0       1\n"
     ]
    }
   ],
   "source": [
    "import pandas as pd\n",
    "\n",
    "# i) Create a CSV file to store the dataset and load it into a DataFrame object\n",
    "\n",
    "# Data for the CSV file\n",
    "data = {\n",
    "    \"Image1\": [1, 0, 1, 0, 1],\n",
    "    \"Image2\": [0, 1, 0, 1, 0],\n",
    "    \"Image3\": [1, 0, 1, 1, 1],\n",
    "    \"Image4\": [0, 1, 1, 0, 1]\n",
    "}\n",
    "\n",
    "# Create a DataFrame\n",
    "df = pd.DataFrame(data)\n",
    "\n",
    "# Save the DataFrame to a CSV file\n",
    "df.to_csv(\"images_data.csv\", index=False)\n",
    "\n",
    "# Load the CSV file back into a DataFrame\n",
    "df_loaded = pd.read_csv(\"images_data.csv\")\n",
    "print(\"i) Loaded DataFrame from CSV:\")\n",
    "print(df_loaded)\n",
    "\n",
    "# ii) Demonstrate the use of 'keep' attribute on the DataFrame object\n",
    "# Here we will drop duplicates and use the 'keep' attribute to retain different versions.\n",
    "# Keep 'first' by default, keep the first occurrence of each duplicate row\n",
    "df_dropped_first = df_loaded.drop_duplicates(keep='first')\n",
    "print(\"\\nii) Drop duplicates, keep the first occurrence:\")\n",
    "print(df_dropped_first)\n",
    "\n",
    "# Keep 'last' to keep the last occurrence of each duplicate row\n",
    "df_dropped_last = df_loaded.drop_duplicates(keep='last')\n",
    "print(\"\\nKeep the last occurrence:\")\n",
    "print(df_dropped_last)\n",
    "\n",
    "# Keep False to remove all duplicates\n",
    "df_dropped_all = df_loaded.drop_duplicates(keep=False)\n",
    "print(\"\\nRemove all duplicates (keep=False):\")\n",
    "print(df_dropped_all)\n",
    "\n",
    "# iii) Display the column-wise repeated data points (duplicate rows in each column)\n",
    "repeated_data = df_loaded[df_loaded.duplicated(subset=[\"Image1\", \"Image2\", \"Image3\", \"Image4\"], keep=False)]\n",
    "print(\"\\niii) Column-wise repeated data points:\")\n",
    "print(repeated_data)\n",
    "\n",
    "# iv) Display the column-wise non-null count values\n",
    "non_null_count = df_loaded.notnull().sum()\n",
    "print(\"\\niv) Column-wise non-null count values:\")\n",
    "print(non_null_count)\n",
    "\n",
    "# v) Create a DataFrame with Image4 as an index\n",
    "df_with_index = df.set_index(\"Image4\")\n",
    "print(\"\\nv) DataFrame with Image4 as an index:\")\n",
    "print(df_with_index)\n"
   ]
  },
  {
   "cell_type": "code",
   "execution_count": 85,
   "id": "9e0b926b-392b-4a7c-b1ec-5e074f29486b",
   "metadata": {},
   "outputs": [
    {
     "name": "stdout",
     "output_type": "stream",
     "text": [
      "i) 4x4 Matrix:\n",
      "[[ 1  2  3  4]\n",
      " [ 5  6  7  8]\n",
      " [ 9 10 11 12]\n",
      " [13 14 15 16]]\n",
      "\n",
      "ii) Diagonal Elements of the Matrix:\n",
      "[ 1  6 11 16]\n"
     ]
    },
    {
     "data": {
      "image/png": "[encoded data removed]",
      "text/plain": [
       "<Figure size 1000x500 with 2 Axes>"
      ]
     },
     "metadata": {},
     "output_type": "display_data"
    },
    {
     "data": {
      "image/png": "[encoded data removed]",
      "text/plain": [
       "<Figure size 1000x500 with 2 Axes>"
      ]
     },
     "metadata": {},
     "output_type": "display_data"
    },
    {
     "name": "stdout",
     "output_type": "stream",
     "text": [
      "\n",
      "Order of the Matrix:\n",
      "(4, 4)\n",
      "\n",
      "b) Re-ordered Matrix (2, 8):\n",
      "[[ 1  2  3  4  5  6  7  8]\n",
      " [ 9 10 11 12 13 14 15 16]]\n",
      "\n",
      "b) Re-ordered Matrix (4, 4):\n",
      "[[ 1  2  3  4]\n",
      " [ 5  6  7  8]\n",
      " [ 9 10 11 12]\n",
      " [13 14 15 16]]\n",
      "\n",
      "c) First two rows of the matrix:\n",
      "[[1 2 3 4]\n",
      " [5 6 7 8]]\n"
     ]
    }
   ],
   "source": [
    "import numpy as np\n",
    "import matplotlib.pyplot as plt\n",
    "\n",
    "# i) Create a 4x4 matrix object having elements generated by using arange function\n",
    "# arange(start, stop, step), here we are generating values from 1 to 16.\n",
    "matrix = np.arange(1, 17).reshape(4, 4)\n",
    "print(\"i) 4x4 Matrix:\")\n",
    "print(matrix)\n",
    "\n",
    "# ii) Create a resultant array object having diagonal elements from the above matrix\n",
    "diagonal_elements = np.diagonal(matrix)\n",
    "print(\"\\nii) Diagonal Elements of the Matrix:\")\n",
    "print(diagonal_elements)\n",
    "\n",
    "# iii) Plot a bar & histogram graph for the diagonal elements array object\n",
    "\n",
    "# Bar plot for diagonal elements\n",
    "plt.figure(figsize=(10, 5))\n",
    "\n",
    "plt.subplot(1, 2, 1)  # Bar plot on the left\n",
    "plt.bar(range(len(diagonal_elements)), diagonal_elements, color='skyblue')\n",
    "plt.title(\"Bar Plot of Diagonal Elements\")\n",
    "plt.xlabel(\"Index\")\n",
    "plt.ylabel(\"Value\")\n",
    "plt.xticks(range(len(diagonal_elements)))\n",
    "\n",
    "# Histogram plot for diagonal elements\n",
    "plt.subplot(1, 2, 2)  # Histogram plot on the right\n",
    "plt.hist(diagonal_elements, bins=5, color='orange', edgecolor='black')\n",
    "plt.title(\"Histogram of Diagonal Elements\")\n",
    "plt.xlabel(\"Value\")\n",
    "plt.ylabel(\"Frequency\")\n",
    "\n",
    "# Show the plots\n",
    "plt.tight_layout()\n",
    "plt.show()\n",
    "\n",
    "# iv) Plot the above graph with customized axis intervals (both x and y axis)\n",
    "\n",
    "# Re-plot with customized intervals\n",
    "plt.figure(figsize=(10, 5))\n",
    "\n",
    "plt.subplot(1, 2, 1)\n",
    "plt.bar(range(len(diagonal_elements)), diagonal_elements, color='skyblue')\n",
    "plt.title(\"Bar Plot with Customized Axis\")\n",
    "plt.xlabel(\"Index\")\n",
    "plt.ylabel(\"Value\")\n",
    "plt.xticks(range(0, len(diagonal_elements), 1))  # Custom x-axis intervals\n",
    "plt.yticks(np.arange(0, 6, 1))  # Custom y-axis intervals\n",
    "\n",
    "plt.subplot(1, 2, 2)\n",
    "plt.hist(diagonal_elements, bins=5, color='orange', edgecolor='black')\n",
    "plt.title(\"Histogram with Customized Axis\")\n",
    "plt.xlabel(\"Value\")\n",
    "plt.ylabel(\"Frequency\")\n",
    "plt.xticks(np.arange(0, 6, 1))  # Custom x-axis intervals\n",
    "plt.yticks(np.arange(0, 3, 1))  # Custom y-axis intervals\n",
    "\n",
    "plt.tight_layout()\n",
    "plt.show()\n",
    "\n",
    "# v) Find the following:\n",
    "\n",
    "# a) Order of the matrix (Number of rows and columns)\n",
    "order_of_matrix = matrix.shape\n",
    "print(\"\\nOrder of the Matrix:\")\n",
    "print(order_of_matrix)\n",
    "\n",
    "# b) Re-order the matrix into (2, 8) & (4, 4) using reshape function (valid reshapes for 16 elements)\n",
    "reshaped_2_8 = matrix.reshape(2, 8)\n",
    "reshaped_4_4 = matrix.reshape(4, 4)\n",
    "\n",
    "print(\"\\nb) Re-ordered Matrix (2, 8):\")\n",
    "print(reshaped_2_8)\n",
    "\n",
    "print(\"\\nb) Re-ordered Matrix (4, 4):\")\n",
    "print(reshaped_4_4)\n",
    "\n",
    "# c) Display first two rows of the matrix\n",
    "first_two_rows = matrix[:2, :]\n",
    "print(\"\\nc) First two rows of the matrix:\")\n",
    "print(first_two_rows)\n"
   ]
  },
  {
   "cell_type": "code",
   "execution_count": 88,
   "id": "c3efd753-ac22-456c-a220-517706c52a3c",
   "metadata": {},
   "outputs": [
    {
     "name": "stdout",
     "output_type": "stream",
     "text": [
      "CIE - Max: 90, Min: 78, Mean: 85.25\n",
      "CGPA - Max: 9.0, Min: 7.8, Mean: 8.525\n"
     ]
    },
    {
     "name": "stderr",
     "output_type": "stream",
     "text": [
      "C:\\Users\\yp901\\AppData\\Local\\Temp\\ipykernel_3604\\3195724839.py:45: MatplotlibDeprecationWarning: The 'labels' parameter of boxplot() has been renamed 'tick_labels' since Matplotlib 3.9; support for the old name will be dropped in 3.11.\n",
      "  plt.boxplot([cie_marks, cgpa_marks], labels=['CIE Marks', 'CGPA Marks'], patch_artist=True,\n"
     ]
    },
    {
     "data": {
      "image/png": "[encoded data removed]",
      "text/plain": [
       "<Figure size 1200x600 with 1 Axes>"
      ]
     },
     "metadata": {},
     "output_type": "display_data"
    },
    {
     "data": {
      "image/png": "[encoded data removed]",
      "text/plain": [
       "<Figure size 800x600 with 1 Axes>"
      ]
     },
     "metadata": {},
     "output_type": "display_data"
    }
   ],
   "source": [
    "import numpy as np\n",
    "import matplotlib.pyplot as plt\n",
    "\n",
    "# i) Create two one-dimensional array objects to store CIE and CGPA marks\n",
    "cie_marks = np.array([85, 90, 78, 88])  # CIE marks for four students\n",
    "cgpa_marks = np.array([8.5, 9.0, 7.8, 8.8])  # CGPA marks for the same students\n",
    "\n",
    "# ii) Find maximum, minimum, and mean of the array elements\n",
    "cie_max = np.max(cie_marks)\n",
    "cie_min = np.min(cie_marks)\n",
    "cie_mean = np.mean(cie_marks)\n",
    "\n",
    "cgpa_max = np.max(cgpa_marks)\n",
    "cgpa_min = np.min(cgpa_marks)\n",
    "cgpa_mean = np.mean(cgpa_marks)\n",
    "\n",
    "print(f\"CIE - Max: {cie_max}, Min: {cie_min}, Mean: {cie_mean}\")\n",
    "print(f\"CGPA - Max: {cgpa_max}, Min: {cgpa_min}, Mean: {cgpa_mean}\")\n",
    "\n",
    "# iii) Plot a bar graph & box graph to compare CIE and CGPA marks\n",
    "\n",
    "# Create a figure and axis for the plots\n",
    "plt.figure(figsize=(12, 6))\n",
    "\n",
    "# Bar graph\n",
    "students = ['Student 1', 'Student 2', 'Student 3', 'Student 4']\n",
    "index = np.arange(len(students))\n",
    "bar_width = 0.35\n",
    "\n",
    "# Plotting bars\n",
    "plt.bar(index - bar_width / 2, cie_marks, bar_width, color='green', label='CIE Marks')\n",
    "plt.bar(index + bar_width / 2, cgpa_marks, bar_width, color='orange', label='CGPA Marks')\n",
    "\n",
    "# Labeling the axes and title\n",
    "plt.xlabel('Students', fontsize=12)\n",
    "plt.ylabel('Marks', fontsize=12)\n",
    "plt.title('Comparison of CIE and CGPA Marks', fontsize=14)\n",
    "\n",
    "# Adding x-ticks, labels, and legend\n",
    "plt.xticks(index, students)\n",
    "plt.legend()\n",
    "\n",
    "# Box plot\n",
    "plt.figure(figsize=(8, 6))\n",
    "plt.boxplot([cie_marks, cgpa_marks], labels=['CIE Marks', 'CGPA Marks'], patch_artist=True,\n",
    "            boxprops=dict(facecolor='green', color='green'),\n",
    "            flierprops=dict(markerfacecolor='orange', marker='o', markersize=8))\n",
    "\n",
    "# Labeling the box plot\n",
    "plt.title('Box Plot Comparison of CIE and CGPA Marks', fontsize=14)\n",
    "plt.ylabel('Marks', fontsize=12)\n",
    "\n",
    "# Display the graphs\n",
    "plt.tight_layout()\n",
    "plt.show()\n"
   ]
  },
  {
   "cell_type": "code",
   "execution_count": 89,
   "id": "faf8cbb1-1ce3-4053-8971-0628762d2a54",
   "metadata": {},
   "outputs": [
    {
     "name": "stdout",
     "output_type": "stream",
     "text": [
      "\n",
      "Data from CSV file:\n",
      "['Item Name', 'Stock Availability']\n",
      "['Apple', '50kg']\n",
      "['Orange', '100kg']\n",
      "['Banana', '20 dozen']\n",
      "['Guava', '70 pcs']\n",
      "['Pine apple', '30 pcs']\n",
      "\n",
      "Item-wise Stock Details:\n",
      "Apple: 50kg\n",
      "Orange: 100kg\n",
      "Banana: 20 dozen\n",
      "Guava: 70 pcs\n",
      "Pine apple: 30 pcs\n",
      "\n",
      "File Data as List:\n",
      "[['Item Name', 'Stock Availability'], ['Apple', '50kg'], ['Orange', '100kg'], ['Banana', '20 dozen'], ['Guava', '70 pcs'], ['Pine apple', '30 pcs']]\n"
     ]
    }
   ],
   "source": [
    "import csv\n",
    "\n",
    "# i) Create a dictionary to store the details\n",
    "stock_data = {\n",
    "    \"Apple\": \"50kg\",\n",
    "    \"Orange\": \"100kg\",\n",
    "    \"Banana\": \"20 dozen\",\n",
    "    \"Guava\": \"70 pcs\",\n",
    "    \"Pine apple\": \"30 pcs\"\n",
    "}\n",
    "\n",
    "# ii) Write the above details into a CSV file\n",
    "csv_file = \"stock_details.csv\"\n",
    "with open(csv_file, mode=\"w\", newline=\"\") as file:\n",
    "    writer = csv.writer(file)\n",
    "    writer.writerow([\"Item Name\", \"Stock Availability\"])\n",
    "    for item, stock in stock_data.items():\n",
    "        writer.writerow([item, stock])\n",
    "\n",
    "# iii) Read and display the data stored in the CSV file\n",
    "print(\"\\nData from CSV file:\")\n",
    "with open(csv_file, mode=\"r\") as file:\n",
    "    reader = csv.reader(file)\n",
    "    for row in reader:\n",
    "        print(row)\n",
    "\n",
    "# iv) Script to display the data item-wise stock details\n",
    "print(\"\\nItem-wise Stock Details:\")\n",
    "with open(csv_file, mode=\"r\") as file:\n",
    "    reader = csv.DictReader(file)\n",
    "    for row in reader:\n",
    "        print(f\"{row['Item Name']}: {row['Stock Availability']}\")\n",
    "\n",
    "# v) Display the file data in the form of a list\n",
    "print(\"\\nFile Data as List:\")\n",
    "with open(csv_file, mode=\"r\") as file:\n",
    "    reader = csv.reader(file)\n",
    "    data_list = list(reader)\n",
    "    print(data_list)"
   ]
  },
  {
   "cell_type": "code",
   "execution_count": null,
   "id": "53078602-6374-4131-9a10-e81fedf50a17",
   "metadata": {},
   "outputs": [],
   "source": []
  }
 ],
 "metadata": {
  "kernelspec": {
   "display_name": "Python 3 (ipykernel)",
   "language": "python",
   "name": "python3"
  },
  "language_info": {
   "codemirror_mode": {
    "name": "ipython",
    "version": 3
   },
   "file_extension": ".py",
   "mimetype": "text/x-python",
   "name": "python",
   "nbconvert_exporter": "python",
   "pygments_lexer": "ipython3",
   "version": "3.12.6"
  }
 },
 "nbformat": 4,
 "nbformat_minor": 5
}
